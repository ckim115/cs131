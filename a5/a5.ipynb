{
 "cells": [
  {
   "cell_type": "code",
   "execution_count": 1,
   "id": "e2ce07d3",
   "metadata": {},
   "outputs": [],
   "source": [
    "from pyspark.ml.clustering import KMeans\n",
    "from pyspark.ml.evaluation import ClusteringEvaluator"
   ]
  },
  {
   "cell_type": "code",
   "execution_count": 2,
   "id": "938cde01",
   "metadata": {},
   "outputs": [
    {
     "name": "stderr",
     "output_type": "stream",
     "text": [
      "[Stage 2:>                                                          (0 + 1) / 1]\r"
     ]
    },
    {
     "name": "stdout",
     "output_type": "stream",
     "text": [
      "+---+--------------------+------+------+-----+---+------+-------+------+------+-----+----------+---------+\n",
      "|  #|                Name|Type_1|Type_2|Total| HP|Attack|Defense|Sp_Atk|Sp_Def|Speed|Generation|Legendary|\n",
      "+---+--------------------+------+------+-----+---+------+-------+------+------+-----+----------+---------+\n",
      "|  1|           Bulbasaur| Grass|Poison|  318| 45|    49|     49|    65|    65|   45|         1|    false|\n",
      "|  2|             Ivysaur| Grass|Poison|  405| 60|    62|     63|    80|    80|   60|         1|    false|\n",
      "|  3|            Venusaur| Grass|Poison|  525| 80|    82|     83|   100|   100|   80|         1|    false|\n",
      "|  3|VenusaurMega Venu...| Grass|Poison|  625| 80|   100|    123|   122|   120|   80|         1|    false|\n",
      "|  4|          Charmander|  Fire|  NULL|  309| 39|    52|     43|    60|    50|   65|         1|    false|\n",
      "+---+--------------------+------+------+-----+---+------+-------+------+------+-----+----------+---------+\n",
      "only showing top 5 rows\n",
      "\n",
      "root\n",
      " |-- #: integer (nullable = true)\n",
      " |-- Name: string (nullable = true)\n",
      " |-- Type_1: string (nullable = true)\n",
      " |-- Type_2: string (nullable = true)\n",
      " |-- Total: integer (nullable = true)\n",
      " |-- HP: integer (nullable = true)\n",
      " |-- Attack: integer (nullable = true)\n",
      " |-- Defense: integer (nullable = true)\n",
      " |-- Sp_Atk: integer (nullable = true)\n",
      " |-- Sp_Def: integer (nullable = true)\n",
      " |-- Speed: integer (nullable = true)\n",
      " |-- Generation: integer (nullable = true)\n",
      " |-- Legendary: boolean (nullable = true)\n",
      "\n"
     ]
    },
    {
     "name": "stderr",
     "output_type": "stream",
     "text": [
      "\r",
      "                                                                                \r"
     ]
    }
   ],
   "source": [
    "filePath = \"gs://dataproc-staging-us-east1-484410736875-hru3bcdb/Pokemon.csv\"\n",
    "\n",
    "# Read in file\n",
    "df = spark.read.format('com.databricks.spark.csv').\\\n",
    "                       options(header='true', \\\n",
    "                       inferschema='true').\\\n",
    "            load(filePath,header=True);\n",
    "\n",
    "# Rename columns for easy access\n",
    "df = df.withColumnRenamed(\"Type 1\", \"Type_1\") \\\n",
    "       .withColumnRenamed(\"Type 2\", \"Type_2\") \\\n",
    "       .withColumnRenamed(\"Sp. Atk\", \"Sp_Atk\") \\\n",
    "       .withColumnRenamed(\"Sp. Def\", \"Sp_Def\")\n",
    "df.show(5,True)\n",
    "df.printSchema()"
   ]
  },
  {
   "cell_type": "code",
   "execution_count": 14,
   "id": "0a77a70b",
   "metadata": {},
   "outputs": [
    {
     "data": {
      "text/html": [
       "<style type=\"text/css\">\n",
       "</style>\n",
       "<table id=\"T_da41e\">\n",
       "  <thead>\n",
       "    <tr>\n",
       "      <th id=\"T_da41e_level0_col0\" class=\"col_heading level0 col0\" >summary</th>\n",
       "      <th id=\"T_da41e_level0_col1\" class=\"col_heading level0 col1\" >Total</th>\n",
       "      <th id=\"T_da41e_level0_col2\" class=\"col_heading level0 col2\" >HP</th>\n",
       "      <th id=\"T_da41e_level0_col3\" class=\"col_heading level0 col3\" >Attack</th>\n",
       "      <th id=\"T_da41e_level0_col4\" class=\"col_heading level0 col4\" >Defense</th>\n",
       "      <th id=\"T_da41e_level0_col5\" class=\"col_heading level0 col5\" >Sp_Atk</th>\n",
       "      <th id=\"T_da41e_level0_col6\" class=\"col_heading level0 col6\" >Sp_Def</th>\n",
       "      <th id=\"T_da41e_level0_col7\" class=\"col_heading level0 col7\" >Speed</th>\n",
       "      <th id=\"T_da41e_level0_col8\" class=\"col_heading level0 col8\" >Generation</th>\n",
       "    </tr>\n",
       "  </thead>\n",
       "  <tbody>\n",
       "    <tr>\n",
       "      <td id=\"T_da41e_row0_col0\" class=\"data row0 col0\" >count</td>\n",
       "      <td id=\"T_da41e_row0_col1\" class=\"data row0 col1\" >800</td>\n",
       "      <td id=\"T_da41e_row0_col2\" class=\"data row0 col2\" >800</td>\n",
       "      <td id=\"T_da41e_row0_col3\" class=\"data row0 col3\" >800</td>\n",
       "      <td id=\"T_da41e_row0_col4\" class=\"data row0 col4\" >800</td>\n",
       "      <td id=\"T_da41e_row0_col5\" class=\"data row0 col5\" >800</td>\n",
       "      <td id=\"T_da41e_row0_col6\" class=\"data row0 col6\" >800</td>\n",
       "      <td id=\"T_da41e_row0_col7\" class=\"data row0 col7\" >800</td>\n",
       "      <td id=\"T_da41e_row0_col8\" class=\"data row0 col8\" >800</td>\n",
       "    </tr>\n",
       "    <tr>\n",
       "      <td id=\"T_da41e_row1_col0\" class=\"data row1 col0\" >mean</td>\n",
       "      <td id=\"T_da41e_row1_col1\" class=\"data row1 col1\" >435.1025</td>\n",
       "      <td id=\"T_da41e_row1_col2\" class=\"data row1 col2\" >69.25875</td>\n",
       "      <td id=\"T_da41e_row1_col3\" class=\"data row1 col3\" >79.00125</td>\n",
       "      <td id=\"T_da41e_row1_col4\" class=\"data row1 col4\" >73.8425</td>\n",
       "      <td id=\"T_da41e_row1_col5\" class=\"data row1 col5\" >72.82</td>\n",
       "      <td id=\"T_da41e_row1_col6\" class=\"data row1 col6\" >71.9025</td>\n",
       "      <td id=\"T_da41e_row1_col7\" class=\"data row1 col7\" >68.2775</td>\n",
       "      <td id=\"T_da41e_row1_col8\" class=\"data row1 col8\" >3.32375</td>\n",
       "    </tr>\n",
       "    <tr>\n",
       "      <td id=\"T_da41e_row2_col0\" class=\"data row2 col0\" >stddev</td>\n",
       "      <td id=\"T_da41e_row2_col1\" class=\"data row2 col1\" >119.96303975551908</td>\n",
       "      <td id=\"T_da41e_row2_col2\" class=\"data row2 col2\" >25.534669032332076</td>\n",
       "      <td id=\"T_da41e_row2_col3\" class=\"data row2 col3\" >32.45736586949845</td>\n",
       "      <td id=\"T_da41e_row2_col4\" class=\"data row2 col4\" >31.183500559332924</td>\n",
       "      <td id=\"T_da41e_row2_col5\" class=\"data row2 col5\" >32.7222941688016</td>\n",
       "      <td id=\"T_da41e_row2_col6\" class=\"data row2 col6\" >27.82891579711746</td>\n",
       "      <td id=\"T_da41e_row2_col7\" class=\"data row2 col7\" >29.060473717161447</td>\n",
       "      <td id=\"T_da41e_row2_col8\" class=\"data row2 col8\" >1.6612904004849451</td>\n",
       "    </tr>\n",
       "    <tr>\n",
       "      <td id=\"T_da41e_row3_col0\" class=\"data row3 col0\" >min</td>\n",
       "      <td id=\"T_da41e_row3_col1\" class=\"data row3 col1\" >180</td>\n",
       "      <td id=\"T_da41e_row3_col2\" class=\"data row3 col2\" >1</td>\n",
       "      <td id=\"T_da41e_row3_col3\" class=\"data row3 col3\" >5</td>\n",
       "      <td id=\"T_da41e_row3_col4\" class=\"data row3 col4\" >5</td>\n",
       "      <td id=\"T_da41e_row3_col5\" class=\"data row3 col5\" >10</td>\n",
       "      <td id=\"T_da41e_row3_col6\" class=\"data row3 col6\" >20</td>\n",
       "      <td id=\"T_da41e_row3_col7\" class=\"data row3 col7\" >5</td>\n",
       "      <td id=\"T_da41e_row3_col8\" class=\"data row3 col8\" >1</td>\n",
       "    </tr>\n",
       "    <tr>\n",
       "      <td id=\"T_da41e_row4_col0\" class=\"data row4 col0\" >max</td>\n",
       "      <td id=\"T_da41e_row4_col1\" class=\"data row4 col1\" >780</td>\n",
       "      <td id=\"T_da41e_row4_col2\" class=\"data row4 col2\" >255</td>\n",
       "      <td id=\"T_da41e_row4_col3\" class=\"data row4 col3\" >190</td>\n",
       "      <td id=\"T_da41e_row4_col4\" class=\"data row4 col4\" >230</td>\n",
       "      <td id=\"T_da41e_row4_col5\" class=\"data row4 col5\" >194</td>\n",
       "      <td id=\"T_da41e_row4_col6\" class=\"data row4 col6\" >230</td>\n",
       "      <td id=\"T_da41e_row4_col7\" class=\"data row4 col7\" >180</td>\n",
       "      <td id=\"T_da41e_row4_col8\" class=\"data row4 col8\" >6</td>\n",
       "    </tr>\n",
       "  </tbody>\n",
       "</table>\n"
      ],
      "text/plain": [
       "<pandas.io.formats.style.Styler at 0x7fc989e69650>"
      ]
     },
     "execution_count": 14,
     "metadata": {},
     "output_type": "execute_result"
    }
   ],
   "source": [
    "import pandas as pd\n",
    "disp_data = df.select(\"Total\", \"HP\", \"Attack\", \"Defense\", \"Sp_Atk\", \"Sp_Def\", \"Speed\", \"Generation\").describe()\n",
    "disp_data.toPandas().style.hide()"
   ]
  },
  {
   "cell_type": "code",
   "execution_count": 3,
   "id": "47687061",
   "metadata": {},
   "outputs": [
    {
     "name": "stderr",
     "output_type": "stream",
     "text": [
      "\r",
      "[Stage 3:>                                                          (0 + 1) / 1]\r"
     ]
    },
    {
     "name": "stdout",
     "output_type": "stream",
     "text": [
      "+------+--------------------+\n",
      "|Type_1|            features|\n",
      "+------+--------------------+\n",
      "| Grass|[45.0,49.0,49.0,6...|\n",
      "| Grass|[60.0,62.0,63.0,8...|\n",
      "| Grass|[80.0,82.0,83.0,1...|\n",
      "| Grass|[80.0,100.0,123.0...|\n",
      "|  Fire|[39.0,52.0,43.0,6...|\n",
      "|  Fire|[58.0,64.0,58.0,8...|\n",
      "|  Fire|[78.0,84.0,78.0,1...|\n",
      "|  Fire|[78.0,130.0,111.0...|\n",
      "|  Fire|[78.0,104.0,78.0,...|\n",
      "| Water|[44.0,48.0,65.0,5...|\n",
      "+------+--------------------+\n",
      "only showing top 10 rows\n",
      "\n"
     ]
    },
    {
     "name": "stderr",
     "output_type": "stream",
     "text": [
      "\r",
      "                                                                                \r"
     ]
    }
   ],
   "source": [
    "# Convert the data to vectors\n",
    "from pyspark.ml.feature import VectorAssembler\n",
    "vecAssembler = VectorAssembler(inputCols=[\"HP\", \"Attack\", \"Defense\", \"Sp_Atk\", \"Sp_Def\", \"Speed\"], outputCol=\"features\")\n",
    "dataset = vecAssembler.transform(df)\n",
    "dataset.select(\"Type_1\", \"features\").show(10)"
   ]
  },
  {
   "cell_type": "code",
   "execution_count": 4,
   "id": "68d37fb2",
   "metadata": {},
   "outputs": [
    {
     "name": "stderr",
     "output_type": "stream",
     "text": [
      "                                                                                \r"
     ]
    },
    {
     "name": "stdout",
     "output_type": "stream",
     "text": [
      "Silhouette with squared euclidean distance = 0.4382470691608637\n"
     ]
    },
    {
     "name": "stderr",
     "output_type": "stream",
     "text": [
      "                                                                                \r"
     ]
    },
    {
     "name": "stdout",
     "output_type": "stream",
     "text": [
      "Silhouette with squared euclidean distance = 0.4015228605174056\n",
      "Silhouette with squared euclidean distance = 0.367556451062971\n",
      "Silhouette with squared euclidean distance = 0.35727950682825865\n",
      "Silhouette with squared euclidean distance = 0.3304389405475277\n",
      "Silhouette with squared euclidean distance = 0.260565462319926\n",
      "Silhouette with squared euclidean distance = 0.30336897027824444\n",
      "Silhouette with squared euclidean distance = 0.26232700155621363\n",
      "Silhouette with squared euclidean distance = 0.2647205919277444\n",
      "Silhouette with squared euclidean distance = 0.25128660442416334\n",
      "Silhouette with squared euclidean distance = 0.2572742855946867\n",
      "Silhouette with squared euclidean distance = 0.23907420574867802\n",
      "Silhouette with squared euclidean distance = 0.24349674499988605\n",
      "Silhouette with squared euclidean distance = 0.2597134014843402\n",
      "Silhouette with squared euclidean distance = 0.25355882622301007\n",
      "Silhouette with squared euclidean distance = 0.2555179021873751\n",
      "Silhouette with squared euclidean distance = 0.260061567032053\n"
     ]
    }
   ],
   "source": [
    "import numpy as np\n",
    "cost = np.zeros(20)\n",
    "for k in range(2,19):\n",
    "    # Train model\n",
    "    kmeans = KMeans().setK(k).setSeed(1).setFeaturesCol(\"features\").setPredictionCol(\"cluster\")\n",
    "    model = kmeans.fit(dataset)\n",
    "    \n",
    "    # Make prediction\n",
    "    predictions = model.transform(dataset)\n",
    "    \n",
    "    # Evaluate\n",
    "    evaluator = ClusteringEvaluator(predictionCol=\"cluster\")\n",
    "    cost[k] = evaluator.evaluate(predictions)\n",
    "    print(\"Silhouette with squared euclidean distance = \" + str(cost[k]))\n",
    "    "
   ]
  },
  {
   "cell_type": "code",
   "execution_count": 5,
   "id": "7a0ab07f",
   "metadata": {},
   "outputs": [
    {
     "data": {
      "image/png": "[encoded data removed]",
      "text/plain": [
       "<Figure size 800x600 with 1 Axes>"
      ]
     },
     "metadata": {},
     "output_type": "display_data"
    }
   ],
   "source": [
    "import numpy as np\n",
    "import matplotlib.mlab as mlab\n",
    "import matplotlib.pyplot as plt\n",
    "import seaborn as sbs\n",
    "from matplotlib.ticker import MaxNLocator\n",
    "\n",
    "fig, ax = plt.subplots(1,1, figsize =(8,6))\n",
    "ax.plot(range(2,20),cost[2:20])\n",
    "ax.set_xlabel('k')\n",
    "ax.set_ylabel('cost')\n",
    "ax.xaxis.set_major_locator(MaxNLocator(integer=True))\n",
    "plt.show()\n",
    "# Showing plot (what number of clusters are ideal)"
   ]
  },
  {
   "cell_type": "code",
   "execution_count": 11,
   "id": "7097f01d",
   "metadata": {},
   "outputs": [
    {
     "name": "stdout",
     "output_type": "stream",
     "text": [
      "+------+---+------+-------+------+------+-----+----------+---------+-------+\n",
      "|Type_1| HP|Attack|Defense|Sp_Atk|Sp_Def|Speed|Generation|Legendary|cluster|\n",
      "+------+---+------+-------+------+------+-----+----------+---------+-------+\n",
      "| Grass| 45|    49|     49|    65|    65|   45|         1|    false|      0|\n",
      "| Grass| 60|    62|     63|    80|    80|   60|         1|    false|      5|\n",
      "| Grass| 80|    82|     83|   100|   100|   80|         1|    false|      2|\n",
      "| Grass| 80|   100|    123|   122|   120|   80|         1|    false|      2|\n",
      "|  Fire| 39|    52|     43|    60|    50|   65|         1|    false|      0|\n",
      "|  Fire| 58|    64|     58|    80|    65|   80|         1|    false|      5|\n",
      "|  Fire| 78|    84|     78|   109|    85|  100|         1|    false|      2|\n",
      "|  Fire| 78|   130|    111|   130|    85|  100|         1|    false|      3|\n",
      "|  Fire| 78|   104|     78|   159|   115|  100|         1|    false|      3|\n",
      "| Water| 44|    48|     65|    50|    64|   43|         1|    false|      0|\n",
      "+------+---+------+-------+------+------+-----+----------+---------+-------+\n",
      "only showing top 10 rows\n",
      "\n"
     ]
    }
   ],
   "source": [
    "# Choose optimal k = 6 (6 clusters)\n",
    "kmeans = KMeans().setK(6).setSeed(1).setFeaturesCol(\"features\").setPredictionCol(\"cluster\")\n",
    "model = kmeans.fit(dataset)\n",
    "\n",
    "cluster = model.transform(dataset)\n",
    "fin_cluster = cluster.select(\"Type_1\", \"HP\", \"Attack\", \"Defense\", \"Sp_Atk\", \"Sp_Def\", \"Speed\", \"Generation\", \"Legendary\", \"cluster\")\n",
    "fin_cluster.show(10)"
   ]
  },
  {
   "cell_type": "code",
   "execution_count": 12,
   "id": "a42fd4a1",
   "metadata": {},
   "outputs": [
    {
     "name": "stdout",
     "output_type": "stream",
     "text": [
      "Cluster Centers: \n",
      "[50.025      53.46785714 52.08571429 48.06785714 49.43928571 49.04642857]\n",
      "[ 94.28333333 100.53333333  78.05833333  68.99166667  72.425\n",
      "  58.74166667]\n",
      "[ 81.49056604  73.27358491  82.73584906 110.79245283 103.30188679\n",
      "  83.32075472]\n",
      "[ 90.5125 135.0875  94.4125 119.8     94.325   98.7   ]\n",
      "[ 65.37142857  85.54285714 134.4         64.61428571  93.24285714\n",
      "  48.88571429]\n",
      "[66.88194444 80.58333333 65.22222222 74.07638889 69.20138889 95.06944444]\n"
     ]
    }
   ],
   "source": [
    "centers = model.clusterCenters()\n",
    "\n",
    "print(\"Cluster Centers: \")\n",
    "for center in centers:\n",
    "    print(center)"
   ]
  },
  {
   "cell_type": "code",
   "execution_count": 13,
   "id": "123ffabd",
   "metadata": {},
   "outputs": [
    {
     "name": "stderr",
     "output_type": "stream",
     "text": [
      "                                                                                \r"
     ]
    },
    {
     "name": "stdout",
     "output_type": "stream",
     "text": [
      "+-----+---+---+---+---+---+---+---+-----+---+\n",
      "|  _c0|_c1|_c2|_c3|_c4|_c5|_c6|_c7|  _c8|_c9|\n",
      "+-----+---+---+---+---+---+---+---+-----+---+\n",
      "|Grass| 45| 49| 49| 65| 65| 45|  1|false|  0|\n",
      "|Grass| 60| 62| 63| 80| 80| 60|  1|false|  5|\n",
      "|Grass| 80| 82| 83|100|100| 80|  1|false|  2|\n",
      "|Grass| 80|100|123|122|120| 80|  1|false|  2|\n",
      "| Fire| 39| 52| 43| 60| 50| 65|  1|false|  0|\n",
      "| Fire| 58| 64| 58| 80| 65| 80|  1|false|  5|\n",
      "| Fire| 78| 84| 78|109| 85|100|  1|false|  2|\n",
      "| Fire| 78|130|111|130| 85|100|  1|false|  3|\n",
      "| Fire| 78|104| 78|159|115|100|  1|false|  3|\n",
      "|Water| 44| 48| 65| 50| 64| 43|  1|false|  0|\n",
      "+-----+---+---+---+---+---+---+---+-----+---+\n",
      "only showing top 10 rows\n",
      "\n"
     ]
    }
   ],
   "source": [
    "# Write to csv\n",
    "csv_filepath = 'gs://dataproc-staging-us-east1-484410736875-hru3bcdb/clusters.csv'\n",
    "fin_cluster.write.mode(\"overwrite\").format(\"csv\").save(csv_filepath)\n",
    "spark.read.format('csv').load(csv_filepath).show(10)"
   ]
  },
  {
   "cell_type": "code",
   "execution_count": 4,
   "id": "a17e76f3",
   "metadata": {},
   "outputs": [
    {
     "name": "stderr",
     "output_type": "stream",
     "text": [
      "                                                                                \r"
     ]
    },
    {
     "name": "stdout",
     "output_type": "stream",
     "text": [
      "+------+---+------+-------+------+------+-----+----------+---------+-------+\n",
      "|Type_1| HP|Attack|Defense|Sp_Atk|Sp_Def|Speed|Generation|Legendary|cluster|\n",
      "+------+---+------+-------+------+------+-----+----------+---------+-------+\n",
      "| Grass| 45|    49|     49|    65|    65|   45|         1|    false|      5|\n",
      "| Grass| 60|    62|     63|    80|    80|   60|         1|    false|      2|\n",
      "| Grass| 80|    82|     83|   100|   100|   80|         1|    false|     14|\n",
      "| Grass| 80|   100|    123|   122|   120|   80|         1|    false|     14|\n",
      "|  Fire| 39|    52|     43|    60|    50|   65|         1|    false|     18|\n",
      "|  Fire| 58|    64|     58|    80|    65|   80|         1|    false|     15|\n",
      "|  Fire| 78|    84|     78|   109|    85|  100|         1|    false|     14|\n",
      "|  Fire| 78|   130|    111|   130|    85|  100|         1|    false|     13|\n",
      "|  Fire| 78|   104|     78|   159|   115|  100|         1|    false|     14|\n",
      "| Water| 44|    48|     65|    50|    64|   43|         1|    false|      5|\n",
      "+------+---+------+-------+------+------+-----+----------+---------+-------+\n",
      "only showing top 10 rows\n",
      "\n"
     ]
    }
   ],
   "source": [
    "# Making a cluster of k=19 despite evaluation to see if match by typings\n",
    "kmeans = KMeans().setK(19).setSeed(1).setFeaturesCol(\"features\").setPredictionCol(\"cluster\")\n",
    "model = kmeans.fit(dataset)\n",
    "\n",
    "cluster = model.transform(dataset)\n",
    "fin_cluster = cluster.select(\"Type_1\", \"HP\", \"Attack\", \"Defense\", \"Sp_Atk\", \"Sp_Def\", \"Speed\", \"Generation\", \"Legendary\", \"cluster\")\n",
    "fin_cluster.show(10)"
   ]
  },
  {
   "cell_type": "code",
   "execution_count": 10,
   "id": "36e2a791",
   "metadata": {},
   "outputs": [
    {
     "name": "stdout",
     "output_type": "stream",
     "text": [
      "Cluster Centers: \n",
      "[50.45454545 69.27272727 84.94545455 42.34545455 52.72727273 36.03636364]\n",
      "[ 59.84210526  66.31578947 140.57894737  65.52631579 139.78947368\n",
      "  42.15789474]\n",
      "[67.44444444 64.01587302 73.80952381 73.22222222 83.68253968 62.20634921]\n",
      "[ 75.97142857 116.48571429  68.42857143  95.08571429  67.2\n",
      "  68.37142857]\n",
      "[ 76.16216216 105.         142.08108108  60.83783784  67.48648649\n",
      "  49.91891892]\n",
      "[53.30769231 43.21153846 53.61538462 63.82692308 62.11538462 38.30769231]\n",
      "[ 89.86111111  76.55555556  86.38888889 103.58333333  95.25\n",
      "  47.66666667]\n",
      "[100.67857143  98.57142857 105.07142857  92.07142857 106.85714286\n",
      "  93.71428571]\n",
      "[ 71.32786885 104.90163934  79.75409836  54.49180328  74.50819672\n",
      "  99.54098361]\n",
      "[231.66666667  16.          24.33333333  47.66666667  99.33333333\n",
      "  46.        ]\n",
      "[ 58.35294118  52.94117647  53.47058824 109.05882353  92.11764706\n",
      " 108.52941176]\n",
      "[57.49333333 74.37333333 49.37333333 47.61333333 47.06666667 56.26666667]\n",
      "[108.18181818 100.15909091  73.25        66.31818182  73.45454545\n",
      "  57.38636364]\n",
      "[ 87.79411765 135.88235294  82.91176471 142.08823529  89.58823529\n",
      " 109.41176471]\n",
      "[ 76.35416667  81.1875      88.3125     126.375      104.85416667\n",
      "  92.14583333]\n",
      "[ 69.45        77.23333333  63.95        87.95        67.25\n",
      " 102.63333333]\n",
      "[48.80851064 36.14893617 38.36170213 30.65957447 35.59574468 38.04255319]\n",
      "[ 95.3  155.1  119.45  95.    99.    88.8 ]\n",
      "[42.66666667 46.8030303  41.34848485 53.62121212 49.33333333 70.95454545]\n"
     ]
    }
   ],
   "source": [
    "centers = model.clusterCenters()\n",
    "\n",
    "print(\"Cluster Centers: \")\n",
    "for center in centers:\n",
    "    print(center)"
   ]
  },
  {
   "cell_type": "code",
   "execution_count": 9,
   "id": "d1aa7a55",
   "metadata": {},
   "outputs": [
    {
     "name": "stderr",
     "output_type": "stream",
     "text": [
      "                                                                                \r"
     ]
    },
    {
     "name": "stdout",
     "output_type": "stream",
     "text": [
      "+-----+---+---+---+---+---+---+---+-----+---+\n",
      "|  _c0|_c1|_c2|_c3|_c4|_c5|_c6|_c7|  _c8|_c9|\n",
      "+-----+---+---+---+---+---+---+---+-----+---+\n",
      "|Grass| 45| 49| 49| 65| 65| 45|  1|false|  5|\n",
      "|Grass| 60| 62| 63| 80| 80| 60|  1|false|  2|\n",
      "|Grass| 80| 82| 83|100|100| 80|  1|false| 14|\n",
      "|Grass| 80|100|123|122|120| 80|  1|false| 14|\n",
      "| Fire| 39| 52| 43| 60| 50| 65|  1|false| 18|\n",
      "| Fire| 58| 64| 58| 80| 65| 80|  1|false| 15|\n",
      "| Fire| 78| 84| 78|109| 85|100|  1|false| 14|\n",
      "| Fire| 78|130|111|130| 85|100|  1|false| 13|\n",
      "| Fire| 78|104| 78|159|115|100|  1|false| 14|\n",
      "|Water| 44| 48| 65| 50| 64| 43|  1|false|  5|\n",
      "+-----+---+---+---+---+---+---+---+-----+---+\n",
      "only showing top 10 rows\n",
      "\n"
     ]
    }
   ],
   "source": [
    "# Write to csv\n",
    "csv_filepath = 'gs://dataproc-staging-us-east1-484410736875-hru3bcdb/clusters19.csv'\n",
    "fin_cluster.write.mode(\"overwrite\").format(\"csv\").save(csv_filepath)\n",
    "spark.read.format('csv').load(csv_filepath).show(10)"
   ]
  },
  {
   "cell_type": "code",
   "execution_count": null,
   "id": "1bf6e71e",
   "metadata": {},
   "outputs": [],
   "source": []
  }
 ],
 "metadata": {
  "kernelspec": {
   "display_name": "PySpark",
   "language": "python",
   "name": "pyspark"
  },
  "language_info": {
   "codemirror_mode": {
    "name": "ipython",
    "version": 3
   },
   "file_extension": ".py",
   "mimetype": "text/x-python",
   "name": "python",
   "nbconvert_exporter": "python",
   "pygments_lexer": "ipython3",
   "version": "3.11.8"
  }
 },
 "nbformat": 4,
 "nbformat_minor": 5
}
