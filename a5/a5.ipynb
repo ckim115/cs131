{
 "cells": [
  {
   "cell_type": "code",
   "execution_count": 10,
   "id": "e2ce07d3",
   "metadata": {},
   "outputs": [],
   "source": [
    "from pyspark.ml.clustering import KMeans\n",
    "from pyspark.ml.evaluation import ClusteringEvaluator"
   ]
  },
  {
   "cell_type": "code",
   "execution_count": 11,
   "id": "938cde01",
   "metadata": {},
   "outputs": [
    {
     "name": "stdout",
     "output_type": "stream",
     "text": [
      "+---+--------------------+------+------+-----+---+------+-------+------+------+-----+----------+---------+\n",
      "|  #|                Name|Type_1|Type_2|Total| HP|Attack|Defense|Sp_Atk|Sp_Def|Speed|Generation|Legendary|\n",
      "+---+--------------------+------+------+-----+---+------+-------+------+------+-----+----------+---------+\n",
      "|  1|           Bulbasaur| Grass|Poison|  318| 45|    49|     49|    65|    65|   45|         1|    false|\n",
      "|  2|             Ivysaur| Grass|Poison|  405| 60|    62|     63|    80|    80|   60|         1|    false|\n",
      "|  3|            Venusaur| Grass|Poison|  525| 80|    82|     83|   100|   100|   80|         1|    false|\n",
      "|  3|VenusaurMega Venu...| Grass|Poison|  625| 80|   100|    123|   122|   120|   80|         1|    false|\n",
      "|  4|          Charmander|  Fire|  NULL|  309| 39|    52|     43|    60|    50|   65|         1|    false|\n",
      "+---+--------------------+------+------+-----+---+------+-------+------+------+-----+----------+---------+\n",
      "only showing top 5 rows\n",
      "\n",
      "root\n",
      " |-- #: integer (nullable = true)\n",
      " |-- Name: string (nullable = true)\n",
      " |-- Type_1: string (nullable = true)\n",
      " |-- Type_2: string (nullable = true)\n",
      " |-- Total: integer (nullable = true)\n",
      " |-- HP: integer (nullable = true)\n",
      " |-- Attack: integer (nullable = true)\n",
      " |-- Defense: integer (nullable = true)\n",
      " |-- Sp_Atk: integer (nullable = true)\n",
      " |-- Sp_Def: integer (nullable = true)\n",
      " |-- Speed: integer (nullable = true)\n",
      " |-- Generation: integer (nullable = true)\n",
      " |-- Legendary: boolean (nullable = true)\n",
      "\n"
     ]
    }
   ],
   "source": [
    "filePath = \"gs://dataproc-staging-us-east1-484410736875-hru3bcdb/Pokemon.csv\"\n",
    "\n",
    "# Read in file\n",
    "df = spark.read.format('com.databricks.spark.csv').\\\n",
    "                       options(header='true', \\\n",
    "                       inferschema='true').\\\n",
    "            load(filePath,header=True);\n",
    "\n",
    "# Rename columns for easy access\n",
    "df = df.withColumnRenamed(\"Type 1\", \"Type_1\") \\\n",
    "       .withColumnRenamed(\"Type 2\", \"Type_2\") \\\n",
    "       .withColumnRenamed(\"Sp. Atk\", \"Sp_Atk\") \\\n",
    "       .withColumnRenamed(\"Sp. Def\", \"Sp_Def\")\n",
    "df.show(5,True)\n",
    "df.printSchema()"
   ]
  },
  {
   "cell_type": "code",
   "execution_count": 12,
   "id": "47687061",
   "metadata": {},
   "outputs": [
    {
     "name": "stdout",
     "output_type": "stream",
     "text": [
      "+------+--------------------+\n",
      "|Type_1|            features|\n",
      "+------+--------------------+\n",
      "| Grass|[45.0,49.0,49.0,6...|\n",
      "| Grass|[60.0,62.0,63.0,8...|\n",
      "| Grass|[80.0,82.0,83.0,1...|\n",
      "| Grass|[80.0,100.0,123.0...|\n",
      "|  Fire|[39.0,52.0,43.0,6...|\n",
      "|  Fire|[58.0,64.0,58.0,8...|\n",
      "|  Fire|[78.0,84.0,78.0,1...|\n",
      "|  Fire|[78.0,130.0,111.0...|\n",
      "|  Fire|[78.0,104.0,78.0,...|\n",
      "| Water|[44.0,48.0,65.0,5...|\n",
      "+------+--------------------+\n",
      "only showing top 10 rows\n",
      "\n"
     ]
    }
   ],
   "source": [
    "# Convert the data to vectors\n",
    "from pyspark.ml.feature import VectorAssembler\n",
    "vecAssembler = VectorAssembler(inputCols=[\"HP\", \"Attack\", \"Defense\", \"Sp_Atk\", \"Sp_Def\", \"Speed\"], outputCol=\"features\")\n",
    "dataset = vecAssembler.transform(df)\n",
    "dataset.select(\"Type_1\", \"features\").show(10)"
   ]
  },
  {
   "cell_type": "code",
   "execution_count": 13,
   "id": "68d37fb2",
   "metadata": {},
   "outputs": [
    {
     "name": "stdout",
     "output_type": "stream",
     "text": [
      "Silhouette with squared euclidean distance = 0.24423548882932786\n",
      "Silhouette with squared euclidean distance = 0.24423548882932786\n",
      "Silhouette with squared euclidean distance = 0.24423548882932786\n",
      "Silhouette with squared euclidean distance = 0.24423548882932786\n",
      "Silhouette with squared euclidean distance = 0.24423548882932786\n",
      "Silhouette with squared euclidean distance = 0.24423548882932786\n",
      "Silhouette with squared euclidean distance = 0.24423548882932786\n",
      "Silhouette with squared euclidean distance = 0.24423548882932786\n",
      "Silhouette with squared euclidean distance = 0.24423548882932786\n",
      "Silhouette with squared euclidean distance = 0.24423548882932786\n",
      "Silhouette with squared euclidean distance = 0.24423548882932786\n",
      "Silhouette with squared euclidean distance = 0.24423548882932786\n",
      "Silhouette with squared euclidean distance = 0.24423548882932786\n",
      "Silhouette with squared euclidean distance = 0.24423548882932786\n",
      "Silhouette with squared euclidean distance = 0.24423548882932786\n",
      "Silhouette with squared euclidean distance = 0.24423548882932786\n",
      "Silhouette with squared euclidean distance = 0.24423548882932786\n"
     ]
    }
   ],
   "source": [
    "import numpy as np\n",
    "cost = np.zeros(20)\n",
    "for k in range(2,19):\n",
    "    # Train model\n",
    "    kmeans = KMeans().setK(19).setSeed(1).setFeaturesCol(\"features\").setPredictionCol(\"cluster\")\n",
    "    model = kmeans.fit(dataset)\n",
    "    \n",
    "    # Make prediction\n",
    "    predictions = model.transform(dataset)\n",
    "    \n",
    "    # Evaluate\n",
    "    evaluator = ClusteringEvaluator(predictionCol=\"cluster\")\n",
    "    cost[k] = evaluator.evaluate(predictions)\n",
    "    print(\"Silhouette with squared euclidean distance = \" + str(cost[k]))\n",
    "    "
   ]
  },
  {
   "cell_type": "code",
   "execution_count": 14,
   "id": "7a0ab07f",
   "metadata": {},
   "outputs": [
    {
     "data": {
      "image/png": "[encoded data removed]",
      "text/plain": [
       "<Figure size 800x600 with 1 Axes>"
      ]
     },
     "metadata": {},
     "output_type": "display_data"
    }
   ],
   "source": [
    "import numpy as np\n",
    "import matplotlib.mlab as mlab\n",
    "import matplotlib.pyplot as plt\n",
    "import seaborn as sbs\n",
    "from matplotlib.ticker import MaxNLocator\n",
    "\n",
    "fig, ax = plt.subplots(1,1, figsize =(8,6))\n",
    "ax.plot(range(2,20),cost[2:20])\n",
    "ax.set_xlabel('k')\n",
    "ax.set_ylabel('cost')\n",
    "ax.xaxis.set_major_locator(MaxNLocator(integer=True))\n",
    "plt.show()\n",
    "# Showing plot (what number of clusters are ideal)"
   ]
  },
  {
   "cell_type": "code",
   "execution_count": 15,
   "id": "7097f01d",
   "metadata": {},
   "outputs": [
    {
     "name": "stdout",
     "output_type": "stream",
     "text": [
      "+------+---+------+-------+------+------+-----+-------+\n",
      "|Type_1| HP|Attack|Defense|Sp_Atk|Sp_Def|Speed|cluster|\n",
      "+------+---+------+-------+------+------+-----+-------+\n",
      "| Grass| 45|    49|     49|    65|    65|   45|      5|\n",
      "| Grass| 60|    62|     63|    80|    80|   60|      2|\n",
      "| Grass| 80|    82|     83|   100|   100|   80|     14|\n",
      "| Grass| 80|   100|    123|   122|   120|   80|     14|\n",
      "|  Fire| 39|    52|     43|    60|    50|   65|     18|\n",
      "|  Fire| 58|    64|     58|    80|    65|   80|     15|\n",
      "|  Fire| 78|    84|     78|   109|    85|  100|     14|\n",
      "|  Fire| 78|   130|    111|   130|    85|  100|     13|\n",
      "|  Fire| 78|   104|     78|   159|   115|  100|     14|\n",
      "| Water| 44|    48|     65|    50|    64|   43|      5|\n",
      "+------+---+------+-------+------+------+-----+-------+\n",
      "only showing top 10 rows\n",
      "\n"
     ]
    }
   ],
   "source": [
    "# Choose k = 19 (18 clusters)\n",
    "kmeans = KMeans().setK(19).setSeed(1).setFeaturesCol(\"features\").setPredictionCol(\"cluster\")\n",
    "\n",
    "cluster = model.transform(dataset)\n",
    "fin_cluster = cluster.select(\"Type_1\", \"HP\", \"Attack\", \"Defense\", \"Sp_Atk\", \"Sp_Def\", \"Speed\", \"cluster\")\n",
    "fin_cluster.show(10)"
   ]
  },
  {
   "cell_type": "code",
   "execution_count": 16,
   "id": "123ffabd",
   "metadata": {},
   "outputs": [
    {
     "name": "stderr",
     "output_type": "stream",
     "text": [
      "                                                                                \r"
     ]
    },
    {
     "name": "stdout",
     "output_type": "stream",
     "text": [
      "+-----+---+---+---+---+---+---+---+\n",
      "|  _c0|_c1|_c2|_c3|_c4|_c5|_c6|_c7|\n",
      "+-----+---+---+---+---+---+---+---+\n",
      "|Grass| 45| 49| 49| 65| 65| 45|  5|\n",
      "|Grass| 60| 62| 63| 80| 80| 60|  2|\n",
      "|Grass| 80| 82| 83|100|100| 80| 14|\n",
      "|Grass| 80|100|123|122|120| 80| 14|\n",
      "| Fire| 39| 52| 43| 60| 50| 65| 18|\n",
      "| Fire| 58| 64| 58| 80| 65| 80| 15|\n",
      "| Fire| 78| 84| 78|109| 85|100| 14|\n",
      "| Fire| 78|130|111|130| 85|100| 13|\n",
      "| Fire| 78|104| 78|159|115|100| 14|\n",
      "|Water| 44| 48| 65| 50| 64| 43|  5|\n",
      "+-----+---+---+---+---+---+---+---+\n",
      "only showing top 10 rows\n",
      "\n"
     ]
    }
   ],
   "source": [
    "# Write to csv\n",
    "csv_filepath = 'gs://dataproc-staging-us-east1-484410736875-hru3bcdb/clusters.csv'\n",
    "fin_cluster.write.mode(\"overwrite\").format(\"csv\").save(csv_filepath)\n",
    "spark.read.format('csv').load(csv_filepath).show(10)"
   ]
  },
  {
   "cell_type": "code",
   "execution_count": 17,
   "id": "a17e76f3",
   "metadata": {},
   "outputs": [
    {
     "name": "stdout",
     "output_type": "stream",
     "text": [
      "+------+---+------+-------+------+------+-----+-------+\n",
      "|Type_1| HP|Attack|Defense|Sp_Atk|Sp_Def|Speed|cluster|\n",
      "+------+---+------+-------+------+------+-----+-------+\n",
      "| Grass| 45|    49|     49|    65|    65|   45|      5|\n",
      "| Grass| 60|    62|     63|    80|    80|   60|      2|\n",
      "| Grass| 80|    82|     83|   100|   100|   80|     14|\n",
      "| Grass| 80|   100|    123|   122|   120|   80|     14|\n",
      "|  Fire| 39|    52|     43|    60|    50|   65|     18|\n",
      "|  Fire| 58|    64|     58|    80|    65|   80|     15|\n",
      "|  Fire| 78|    84|     78|   109|    85|  100|     14|\n",
      "|  Fire| 78|   130|    111|   130|    85|  100|     13|\n",
      "|  Fire| 78|   104|     78|   159|   115|  100|     14|\n",
      "| Water| 44|    48|     65|    50|    64|   43|      5|\n",
      "+------+---+------+-------+------+------+-----+-------+\n",
      "only showing top 10 rows\n",
      "\n"
     ]
    }
   ],
   "source": [
    "# Making a cluster of k=20 (19 clusters) despite evaluation to see if match by typings\n",
    "kmeans = KMeans().setK(20).setSeed(1).setFeaturesCol(\"features\").setPredictionCol(\"cluster\")\n",
    "\n",
    "cluster = model.transform(dataset)\n",
    "fin_cluster = cluster.select(\"Type_1\", \"HP\", \"Attack\", \"Defense\", \"Sp_Atk\", \"Sp_Def\", \"Speed\", \"cluster\")\n",
    "fin_cluster.show(10)"
   ]
  },
  {
   "cell_type": "code",
   "execution_count": 18,
   "id": "d1aa7a55",
   "metadata": {},
   "outputs": [
    {
     "name": "stderr",
     "output_type": "stream",
     "text": [
      "\r",
      "[Stage 2027:>                                                       (0 + 1) / 1]\r",
      "\r",
      "                                                                                \r"
     ]
    },
    {
     "name": "stdout",
     "output_type": "stream",
     "text": [
      "+-----+---+---+---+---+---+---+---+\n",
      "|  _c0|_c1|_c2|_c3|_c4|_c5|_c6|_c7|\n",
      "+-----+---+---+---+---+---+---+---+\n",
      "|Grass| 45| 49| 49| 65| 65| 45|  5|\n",
      "|Grass| 60| 62| 63| 80| 80| 60|  2|\n",
      "|Grass| 80| 82| 83|100|100| 80| 14|\n",
      "|Grass| 80|100|123|122|120| 80| 14|\n",
      "| Fire| 39| 52| 43| 60| 50| 65| 18|\n",
      "| Fire| 58| 64| 58| 80| 65| 80| 15|\n",
      "| Fire| 78| 84| 78|109| 85|100| 14|\n",
      "| Fire| 78|130|111|130| 85|100| 13|\n",
      "| Fire| 78|104| 78|159|115|100| 14|\n",
      "|Water| 44| 48| 65| 50| 64| 43|  5|\n",
      "+-----+---+---+---+---+---+---+---+\n",
      "only showing top 10 rows\n",
      "\n"
     ]
    }
   ],
   "source": [
    "# Write to csv\n",
    "csv_filepath = 'gs://dataproc-staging-us-east1-484410736875-hru3bcdb/clusters19.csv'\n",
    "fin_cluster.write.mode(\"overwrite\").format(\"csv\").save(csv_filepath)\n",
    "spark.read.format('csv').load(csv_filepath).show(10)"
   ]
  },
  {
   "cell_type": "code",
   "execution_count": null,
   "id": "6c3ea966",
   "metadata": {},
   "outputs": [],
   "source": []
  }
 ],
 "metadata": {
  "kernelspec": {
   "display_name": "PySpark",
   "language": "python",
   "name": "pyspark"
  },
  "language_info": {
   "codemirror_mode": {
    "name": "ipython",
    "version": 3
   },
   "file_extension": ".py",
   "mimetype": "text/x-python",
   "name": "python",
   "nbconvert_exporter": "python",
   "pygments_lexer": "ipython3",
   "version": "3.11.8"
  }
 },
 "nbformat": 4,
 "nbformat_minor": 5
}
